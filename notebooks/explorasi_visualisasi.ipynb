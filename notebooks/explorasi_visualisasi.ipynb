{
 "cells": [
  {
   "cell_type": "markdown",
   "id": "9a628395",
   "metadata": {},
   "source": [
    "# US Accidents"
   ]
  },
  {
   "cell_type": "markdown",
   "id": "588e663d",
   "metadata": {},
   "source": [
    "Tujuan: Mengetahui pola kecelakaan di US serta faktor-faktor yang mungkin memengaruhi tingkat kecelakaannya"
   ]
  },
  {
   "cell_type": "code",
   "execution_count": null,
   "id": "903ac0e9",
   "metadata": {},
   "outputs": [],
   "source": [
    "import pandas as pd\n",
    "import matplotlib.pyplot as plt\n",
    "import seaborn as sns"
   ]
  },
  {
   "cell_type": "markdown",
   "id": "7ee1c5be",
   "metadata": {},
   "source": [
    "## Load Data"
   ]
  },
  {
   "cell_type": "code",
   "execution_count": null,
   "id": "886bac56",
   "metadata": {},
   "outputs": [],
   "source": [
    "# Membaca dataset\n",
    "df = pd.read_csv('E:\\\\Career\\\\Data Science\\\\Dataset\\\\US Accidents\\\\US_Accidents_March23.csv')\n",
    "df.head()"
   ]
  },
  {
   "cell_type": "markdown",
   "id": "fcabfada",
   "metadata": {},
   "source": [
    "## Handle Data Type"
   ]
  },
  {
   "cell_type": "code",
   "execution_count": null,
   "id": "6bcaef1c",
   "metadata": {},
   "outputs": [],
   "source": [
    "# Mengecek tipe data dan informasi dataset\n",
    "df.info()"
   ]
  },
  {
   "cell_type": "code",
   "execution_count": null,
   "id": "b3ef4542",
   "metadata": {},
   "outputs": [],
   "source": [
    "# Kolom severity menjadi target variabel\n",
    "df['Severity'] = df['Severity'].astype('category')\n",
    "df['Severity'].value_counts()"
   ]
  },
  {
   "cell_type": "code",
   "execution_count": null,
   "id": "4929971c",
   "metadata": {},
   "outputs": [],
   "source": [
    "# Kolom Start_Time dan End_Time diubah menjadi tipe data datetime\n",
    "df['Start_Time'] = pd.to_datetime(df['Start_Time'], format='mixed', errors='coerce')\n",
    "df['End_Time'] = pd.to_datetime(df['End_Time'], format='mixed', errors='coerce')\n",
    "df[3639775:3639776]  # Menampilkan baris tertentu untuk verifikasi"
   ]
  },
  {
   "cell_type": "code",
   "execution_count": null,
   "id": "037c0f08",
   "metadata": {},
   "outputs": [],
   "source": [
    "# Kolom Weather_Timestamp diubah menjadi datetime\n",
    "df['Weather_Timestamp'] = pd.to_datetime(df['Weather_Timestamp'], format='%Y-%m-%d %H:%M:%S', errors='coerce')"
   ]
  },
  {
   "cell_type": "code",
   "execution_count": null,
   "id": "99152c64",
   "metadata": {},
   "outputs": [],
   "source": [
    "# Kolom-kolom lain yang memiliki tipe data categorical\n",
    "categorical_columns = ['Sunrise_Sunset', 'Civil_Twilight', 'Nautical_Twilight', 'Astronomical_Twilight']\n",
    "for col in categorical_columns:\n",
    "    df[col] = df[col].astype('category')"
   ]
  },
  {
   "cell_type": "code",
   "execution_count": null,
   "id": "cb6b9072",
   "metadata": {},
   "outputs": [],
   "source": [
    "df.info()"
   ]
  },
  {
   "cell_type": "markdown",
   "id": "1f416b4c",
   "metadata": {},
   "source": [
    "## Handle Missing Data"
   ]
  },
  {
   "cell_type": "code",
   "execution_count": null,
   "id": "c69079f5",
   "metadata": {},
   "outputs": [],
   "source": [
    "# Mengecek jumlah nilai yang hilang pada setiap kolom\n",
    "df.isnull().sum()"
   ]
  },
  {
   "cell_type": "code",
   "execution_count": null,
   "id": "f502b7c5",
   "metadata": {},
   "outputs": [],
   "source": [
    "# Jumlah baris yang hilang dalam persen\n",
    "missing_percentage = df.isnull().mean() * 100\n",
    "missing_percentage[missing_percentage > 0]"
   ]
  },
  {
   "cell_type": "code",
   "execution_count": null,
   "id": "7badb79a",
   "metadata": {},
   "outputs": [],
   "source": [
    "# Drop kolom 'End_Lat' dan 'End_Lng'\n",
    "df = df.drop(columns=['End_Lat', 'End_Lng'])\n",
    "\n",
    "# Drop kolom untuk missing value di bawah 5%\n",
    "threshold = 5\n",
    "cols_to_dropna = missing_percentage[missing_percentage < threshold].index\n",
    "df = df.dropna(subset=cols_to_dropna)\n",
    "\n",
    "# # Untuk kolom kategori\n",
    "for col in df.select_dtypes(include='category').columns:\n",
    "    df[col] = df[col].cat.add_categories('Unknown').fillna('Unknown')\n",
    "\n",
    "# Untuk kolom numerik\n",
    "for col in df.select_dtypes(include='number').columns:\n",
    "    df[col] = df[col].fillna(df[col].median())"
   ]
  },
  {
   "cell_type": "code",
   "execution_count": null,
   "id": "a45898c5",
   "metadata": {},
   "outputs": [],
   "source": [
    "missing_percentage = df.isnull().mean() * 100\n",
    "missing_percentage[missing_percentage > 0]"
   ]
  },
  {
   "cell_type": "code",
   "execution_count": null,
   "id": "9e4e0887",
   "metadata": {},
   "outputs": [],
   "source": [
    "df.info()"
   ]
  },
  {
   "cell_type": "markdown",
   "id": "5eb98a6f",
   "metadata": {},
   "source": [
    "## Visualize Data"
   ]
  },
  {
   "cell_type": "code",
   "execution_count": null,
   "id": "8bd6ba58",
   "metadata": {},
   "outputs": [],
   "source": [
    "# Distribusi variabel numerik\n",
    "df.plot(kind='box', figsize=(20, 10), subplots=True, layout=(3, 4), sharex=False, sharey=False)"
   ]
  },
  {
   "cell_type": "code",
   "execution_count": null,
   "id": "689de6dc",
   "metadata": {},
   "outputs": [],
   "source": [
    "# Distribusi variabel kategorikal\n",
    "df.select_dtypes(include='category').nunique()"
   ]
  },
  {
   "cell_type": "code",
   "execution_count": null,
   "id": "5ac31736",
   "metadata": {},
   "outputs": [],
   "source": [
    "# Distribusi variabel kategorikal\n",
    "for col in df.select_dtypes(include='category').columns:\n",
    "    plt.figure(figsize=(10, 5))\n",
    "    sns.countplot(x=col, data=df)\n",
    "    plt.title(f'Distribusi {col}')\n",
    "    plt.show()"
   ]
  },
  {
   "cell_type": "code",
   "execution_count": null,
   "id": "bdd9a246",
   "metadata": {},
   "outputs": [],
   "source": [
    "# Tren kecelakaan per bulan\n",
    "df['Month'] = df['Start_Time'].dt.month\n",
    "df['Year'] = df['Start_Time'].dt.year\n",
    "df.groupby(['Year', 'Month']).size().plot(kind='line')\n",
    "plt.title('Jumlah Kecelakaan per Bulan')\n",
    "plt.ylabel('Jumlah')\n",
    "plt.show()"
   ]
  },
  {
   "cell_type": "code",
   "execution_count": null,
   "id": "5cebf34f",
   "metadata": {},
   "outputs": [],
   "source": [
    "# Peta Lokasi Kecelakaan\n",
    "plt.figure(figsize=(12, 8))\n",
    "sns.scatterplot(x='Start_Lng', y='Start_Lat', hue='Severity', data=df, alpha=0.6)\n",
    "plt.title('Peta Lokasi Kecelakaan')\n",
    "plt.xlabel('Longitude')\n",
    "plt.ylabel('Latitude')\n",
    "plt.legend(title='Severity')\n",
    "plt.show()"
   ]
  },
  {
   "cell_type": "code",
   "execution_count": null,
   "id": "420632be",
   "metadata": {},
   "outputs": [],
   "source": [
    "# Korelasi\n",
    "correlation_matrix = df.select_dtypes(include='number').corr()\n",
    "plt.figure(figsize=(12, 8))\n",
    "sns.heatmap(correlation_matrix, annot=True, fmt=\".2f\", cmap='coolwarm')\n",
    "plt.title('Matriks Korelasi')\n",
    "plt.show()"
   ]
  },
  {
   "cell_type": "code",
   "execution_count": null,
   "id": "87345c78",
   "metadata": {},
   "outputs": [],
   "source": [
    "# Perbandingan antar kategori berdasarkan Severity\n",
    "for col in df.select_dtypes(include='category').columns:\n",
    "    plt.figure(figsize=(10, 5))\n",
    "    sns.countplot(x=col, hue='Severity', data=df)\n",
    "    plt.title(f'Perbandingan {col} berdasarkan Severity')\n",
    "    plt.show()"
   ]
  },
  {
   "cell_type": "markdown",
   "id": "9e862022",
   "metadata": {},
   "source": [
    "## Insight dan Interpretasi\n",
    "\n",
    "Tuliskan insight dari visualisasi yang telah dibuat."
   ]
  },
  {
   "cell_type": "code",
   "execution_count": null,
   "id": "ecfbcf91",
   "metadata": {},
   "outputs": [],
   "source": []
  }
 ],
 "metadata": {
  "kernelspec": {
   "display_name": "base",
   "language": "python",
   "name": "python3"
  },
  "language_info": {
   "codemirror_mode": {
    "name": "ipython",
    "version": 3
   },
   "file_extension": ".py",
   "mimetype": "text/x-python",
   "name": "python",
   "nbconvert_exporter": "python",
   "pygments_lexer": "ipython3",
   "version": "3.13.5"
  }
 },
 "nbformat": 4,
 "nbformat_minor": 5
}
